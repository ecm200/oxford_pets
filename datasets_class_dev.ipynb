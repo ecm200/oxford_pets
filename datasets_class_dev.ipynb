{
 "metadata": {
  "language_info": {
   "codemirror_mode": {
    "name": "ipython",
    "version": 3
   },
   "file_extension": ".py",
   "mimetype": "text/x-python",
   "name": "python",
   "nbconvert_exporter": "python",
   "pygments_lexer": "ipython3",
   "version": "3.8.8"
  },
  "orig_nbformat": 2,
  "kernelspec": {
   "name": "python388jvsc74a57bd0da3747a036187680e2b34a8786029d6a50aba197a7c22b09ad53a2cc8b995665",
   "display_name": "Python 3.8.8 64-bit ('py38_pytorch181_cu111_clearml': conda)"
  }
 },
 "nbformat": 4,
 "nbformat_minor": 2,
 "cells": [
  {
   "cell_type": "code",
   "execution_count": 1,
   "metadata": {},
   "outputs": [],
   "source": [
    "import os\n",
    "from torch.utils.data import Dataset\n",
    "import pandas as pd\n",
    "from cub_tools.transforms import makeDefaultTransforms"
   ]
  },
  {
   "cell_type": "code",
   "execution_count": 2,
   "metadata": {},
   "outputs": [],
   "source": [
    "annotations_file = \"data/annotations/list.txt\"\n",
    "img_dir = \"data/images\"\n"
   ]
  },
  {
   "cell_type": "code",
   "execution_count": 3,
   "metadata": {},
   "outputs": [],
   "source": [
    "img_labels = pd.read_csv(annotations_file, header=None, skiprows=6, delim_whitespace=' ', names=['Class Name ID','Class ID','Species ID','Breed ID'])\n",
    "img_labels['Class Name'] = img_labels['Class Name ID'].str.rsplit('_', n=1, expand=True)[0]"
   ]
  },
  {
   "cell_type": "code",
   "execution_count": 4,
   "metadata": {},
   "outputs": [
    {
     "output_type": "execute_result",
     "data": {
      "text/plain": [
       "             Class Name ID  Class ID  Species ID  Breed ID         Class Name\n",
       "0           Abyssinian_100         1           1         1         Abyssinian\n",
       "1           Abyssinian_101         1           1         1         Abyssinian\n",
       "2           Abyssinian_102         1           1         1         Abyssinian\n",
       "3           Abyssinian_103         1           1         1         Abyssinian\n",
       "4           Abyssinian_104         1           1         1         Abyssinian\n",
       "...                    ...       ...         ...       ...                ...\n",
       "7344  yorkshire_terrier_96        37           2        25  yorkshire_terrier\n",
       "7345  yorkshire_terrier_97        37           2        25  yorkshire_terrier\n",
       "7346  yorkshire_terrier_98        37           2        25  yorkshire_terrier\n",
       "7347  yorkshire_terrier_99        37           2        25  yorkshire_terrier\n",
       "7348   yorkshire_terrier_9        37           2        25  yorkshire_terrier\n",
       "\n",
       "[7349 rows x 5 columns]"
      ],
      "text/html": "<div>\n<style scoped>\n    .dataframe tbody tr th:only-of-type {\n        vertical-align: middle;\n    }\n\n    .dataframe tbody tr th {\n        vertical-align: top;\n    }\n\n    .dataframe thead th {\n        text-align: right;\n    }\n</style>\n<table border=\"1\" class=\"dataframe\">\n  <thead>\n    <tr style=\"text-align: right;\">\n      <th></th>\n      <th>Class Name ID</th>\n      <th>Class ID</th>\n      <th>Species ID</th>\n      <th>Breed ID</th>\n      <th>Class Name</th>\n    </tr>\n  </thead>\n  <tbody>\n    <tr>\n      <th>0</th>\n      <td>Abyssinian_100</td>\n      <td>1</td>\n      <td>1</td>\n      <td>1</td>\n      <td>Abyssinian</td>\n    </tr>\n    <tr>\n      <th>1</th>\n      <td>Abyssinian_101</td>\n      <td>1</td>\n      <td>1</td>\n      <td>1</td>\n      <td>Abyssinian</td>\n    </tr>\n    <tr>\n      <th>2</th>\n      <td>Abyssinian_102</td>\n      <td>1</td>\n      <td>1</td>\n      <td>1</td>\n      <td>Abyssinian</td>\n    </tr>\n    <tr>\n      <th>3</th>\n      <td>Abyssinian_103</td>\n      <td>1</td>\n      <td>1</td>\n      <td>1</td>\n      <td>Abyssinian</td>\n    </tr>\n    <tr>\n      <th>4</th>\n      <td>Abyssinian_104</td>\n      <td>1</td>\n      <td>1</td>\n      <td>1</td>\n      <td>Abyssinian</td>\n    </tr>\n    <tr>\n      <th>...</th>\n      <td>...</td>\n      <td>...</td>\n      <td>...</td>\n      <td>...</td>\n      <td>...</td>\n    </tr>\n    <tr>\n      <th>7344</th>\n      <td>yorkshire_terrier_96</td>\n      <td>37</td>\n      <td>2</td>\n      <td>25</td>\n      <td>yorkshire_terrier</td>\n    </tr>\n    <tr>\n      <th>7345</th>\n      <td>yorkshire_terrier_97</td>\n      <td>37</td>\n      <td>2</td>\n      <td>25</td>\n      <td>yorkshire_terrier</td>\n    </tr>\n    <tr>\n      <th>7346</th>\n      <td>yorkshire_terrier_98</td>\n      <td>37</td>\n      <td>2</td>\n      <td>25</td>\n      <td>yorkshire_terrier</td>\n    </tr>\n    <tr>\n      <th>7347</th>\n      <td>yorkshire_terrier_99</td>\n      <td>37</td>\n      <td>2</td>\n      <td>25</td>\n      <td>yorkshire_terrier</td>\n    </tr>\n    <tr>\n      <th>7348</th>\n      <td>yorkshire_terrier_9</td>\n      <td>37</td>\n      <td>2</td>\n      <td>25</td>\n      <td>yorkshire_terrier</td>\n    </tr>\n  </tbody>\n</table>\n<p>7349 rows × 5 columns</p>\n</div>"
     },
     "metadata": {},
     "execution_count": 4
    }
   ],
   "source": [
    "img_labels"
   ]
  },
  {
   "cell_type": "code",
   "execution_count": 5,
   "metadata": {},
   "outputs": [
    {
     "output_type": "execute_result",
     "data": {
      "text/plain": [
       "['Abyssinian',\n",
       " 'american_bulldog',\n",
       " 'american_pit_bull_terrier',\n",
       " 'basset_hound',\n",
       " 'beagle',\n",
       " 'Bengal',\n",
       " 'Birman',\n",
       " 'Bombay',\n",
       " 'boxer',\n",
       " 'British_Shorthair',\n",
       " 'chihuahua',\n",
       " 'Egyptian_Mau',\n",
       " 'english_cocker_spaniel',\n",
       " 'english_setter',\n",
       " 'german_shorthaired',\n",
       " 'great_pyrenees',\n",
       " 'havanese',\n",
       " 'japanese_chin',\n",
       " 'keeshond',\n",
       " 'leonberger',\n",
       " 'Maine_Coon',\n",
       " 'miniature_pinscher',\n",
       " 'newfoundland',\n",
       " 'Persian',\n",
       " 'pomeranian',\n",
       " 'pug',\n",
       " 'Ragdoll',\n",
       " 'Russian_Blue',\n",
       " 'saint_bernard',\n",
       " 'samoyed',\n",
       " 'scottish_terrier',\n",
       " 'shiba_inu',\n",
       " 'Siamese',\n",
       " 'Sphynx',\n",
       " 'staffordshire_bull_terrier',\n",
       " 'wheaten_terrier',\n",
       " 'yorkshire_terrier']"
      ]
     },
     "metadata": {},
     "execution_count": 5
    }
   ],
   "source": [
    "list(img_labels['Class Name'].unique())"
   ]
  },
  {
   "cell_type": "code",
   "execution_count": 12,
   "metadata": {},
   "outputs": [
    {
     "output_type": "execute_result",
     "data": {
      "text/plain": [
       "0             Abyssinian_100.jpg\n",
       "1             Abyssinian_101.jpg\n",
       "2             Abyssinian_102.jpg\n",
       "3             Abyssinian_103.jpg\n",
       "4             Abyssinian_104.jpg\n",
       "                  ...           \n",
       "7344    yorkshire_terrier_96.jpg\n",
       "7345    yorkshire_terrier_97.jpg\n",
       "7346    yorkshire_terrier_98.jpg\n",
       "7347    yorkshire_terrier_99.jpg\n",
       "7348     yorkshire_terrier_9.jpg\n",
       "Name: Class Name ID, Length: 7349, dtype: object"
      ]
     },
     "metadata": {},
     "execution_count": 12
    }
   ],
   "source": []
  },
  {
   "cell_type": "code",
   "execution_count": 6,
   "metadata": {},
   "outputs": [],
   "source": [
    "import sys\n",
    "sys.path.insert(1, 'tools')\n",
    "from tools.data import OxfordPetsDataset"
   ]
  },
  {
   "cell_type": "code",
   "execution_count": 7,
   "metadata": {},
   "outputs": [],
   "source": [
    "transforms = makeDefaultTransforms()"
   ]
  },
  {
   "cell_type": "code",
   "execution_count": 8,
   "metadata": {},
   "outputs": [],
   "source": [
    "dataset = OxfordPetsDataset(annotations_file=\"data/annotations/trainval.txt\", img_dir=\"data/images\", skiprows=0, transform=transforms['train'])"
   ]
  },
  {
   "cell_type": "code",
   "execution_count": 9,
   "metadata": {},
   "outputs": [
    {
     "output_type": "execute_result",
     "data": {
      "text/plain": [
       "(tensor([[[-0.0116, -0.1657, -0.4054,  ...,  2.1633,  1.9578,  1.8037],\n",
       "          [ 0.1083, -0.0116, -0.1828,  ...,  2.0434,  2.0605,  2.0605],\n",
       "          [-0.0287, -0.0287, -0.0116,  ...,  1.9235,  2.0092,  2.0605],\n",
       "          ...,\n",
       "          [-0.0801, -0.1657, -0.2684,  ...,  1.4954,  1.4098,  1.3584],\n",
       "          [-0.1314, -0.1828, -0.2513,  ...,  1.5297,  1.4440,  1.3927],\n",
       "          [ 0.0056, -0.0629, -0.1657,  ...,  1.4783,  1.4954,  1.5125]],\n",
       " \n",
       "         [[-0.3901, -0.4776, -0.5826,  ...,  1.7283,  1.4832,  1.3256],\n",
       "          [-0.4251, -0.4251, -0.3901,  ...,  1.5882,  1.5532,  1.5357],\n",
       "          [-0.6702, -0.5126, -0.2850,  ...,  1.4482,  1.4832,  1.5007],\n",
       "          ...,\n",
       "          [-0.8277, -0.8978, -1.0028,  ...,  1.7808,  1.7108,  1.6758],\n",
       "          [-0.8627, -0.9153, -0.9853,  ...,  1.7808,  1.7283,  1.6933],\n",
       "          [-0.7577, -0.8102, -0.8803,  ...,  1.7283,  1.7458,  1.7458]],\n",
       " \n",
       "         [[-0.6890, -0.6018, -0.4973,  ...,  1.4548,  1.2282,  1.0714],\n",
       "          [-0.7761, -0.6541, -0.4624,  ...,  1.3328,  1.3154,  1.2980],\n",
       "          [-1.0027, -0.7936, -0.4973,  ...,  1.2282,  1.2805,  1.2980],\n",
       "          ...,\n",
       "          [-1.2990, -1.3513, -1.4210,  ...,  2.0300,  1.9603,  1.9080],\n",
       "          [-1.3861, -1.4036, -1.4036,  ...,  2.0474,  1.9951,  1.9428],\n",
       "          [-1.4559, -1.4210, -1.3513,  ...,  1.9951,  2.0125,  2.0125]]]),\n",
       " 'Abyssinian')"
      ]
     },
     "metadata": {},
     "execution_count": 9
    }
   ],
   "source": [
    "dataset.__getitem__(idx=0)"
   ]
  },
  {
   "cell_type": "code",
   "execution_count": 10,
   "metadata": {},
   "outputs": [],
   "source": [
    "from tools.data import create_dataloaders"
   ]
  },
  {
   "cell_type": "code",
   "execution_count": 11,
   "metadata": {},
   "outputs": [
    {
     "output_type": "stream",
     "name": "stdout",
     "text": [
      "***********************************************\n**            DATASET SUMMARY                **\n***********************************************\ntrain  size::  3680  images\ntest  size::  3669  images\nNumber of classes::  37\n***********************************************\n[INFO] Created data loaders.\n"
     ]
    }
   ],
   "source": [
    "train_loader, test_loader = create_dataloaders(\n",
    "    data_transforms=transforms, \n",
    "    data_dir=img_dir, \n",
    "    batch_size=16, \n",
    "    num_workers=4, \n",
    "    train_file='data/annotations/trainval.txt', \n",
    "    test_file='data/annotations/test.txt', \n",
    "    shuffle={'train' : True, 'test' : False}, \n",
    "    test_batch_size=2)"
   ]
  },
  {
   "cell_type": "code",
   "execution_count": 14,
   "metadata": {},
   "outputs": [
    {
     "output_type": "execute_result",
     "data": {
      "text/plain": [
       "<tools.data.OxfordPetsDataset at 0x7f4bdcf76d90>"
      ]
     },
     "metadata": {},
     "execution_count": 14
    }
   ],
   "source": [
    "dirtrain_loader.dataset"
   ]
  },
  {
   "cell_type": "code",
   "execution_count": null,
   "metadata": {},
   "outputs": [],
   "source": []
  }
 ]
}